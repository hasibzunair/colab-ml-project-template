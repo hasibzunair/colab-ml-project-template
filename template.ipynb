{
  "nbformat": 4,
  "nbformat_minor": 0,
  "metadata": {
    "colab": {
      "name": "template.ipynb",
      "provenance": [],
      "collapsed_sections": []
    },
    "kernelspec": {
      "name": "python3",
      "display_name": "Python 3"
    }
  },
  "cells": [
    {
      "cell_type": "code",
      "metadata": {
        "id": "ya6sICEIMpW3"
      },
      "source": [
        "colab = True\n",
        "if colab:\n",
        "    # Mount drive\n",
        "    from google.colab import drive\n",
        "    drive.mount('/content/gdrive')\n",
        "    # Set path to working directory\n",
        "    import sys\n",
        "    sys.path.append('/content/gdrive/My Drive/yourprojectfolder/')\n",
        "    %cd /content/gdrive/My\\ Drive/deeplearning/yourprojectfolder/\n",
        "    # Extract dataset\n",
        "    import os\n",
        "    if os.path.exists(\"dataset\"):\n",
        "      print(\"Dataset already exists!\")\n",
        "    else:\n",
        "      # Extract files\n",
        "      print(\"Unzipping dataset...\")\n",
        "      !unzip \"dataset.zip\""
      ],
      "execution_count": null,
      "outputs": []
    },
    {
      "cell_type": "code",
      "metadata": {
        "id": "akOnd6S9NMtY"
      },
      "source": [
        "import os\n",
        "# import other stuffs\n",
        "# import scripts etc..\n",
        "\n",
        "ROOT_DIR = os.path.abspath(\"./\")\n",
        "CFG_NAME = \"experiment_1\"\n",
        "LOG_PATH = os.path.join(ROOT_DIR, \"logs\", CFG_NAME)\n",
        "\n",
        "DATASET_PATH = os.path.join(ROOT_DIR, \"dataset/\")\n",
        "\n",
        "# Make logs directory, dump all experiment results inside this sub folder\n",
        "if not os.path.exists(os.path.join(ROOT_DIR, \"logs\")):\n",
        "    os.mkdir(os.path.join(ROOT_DIR, \"logs\"))\n",
        "\n",
        "# Make new directory for the current experiment\n",
        "if not os.path.exists(LOG_PATH):\n",
        "    os.mkdir(LOG_PATH)"
      ],
      "execution_count": null,
      "outputs": []
    },
    {
      "cell_type": "markdown",
      "metadata": {
        "id": "WJ4IYNXAN3uD"
      },
      "source": [
        "Now you can read your dataset and save model files. To avoid timeout during training, follow these steps:\n",
        "\n",
        "* Open your Colab notebook\n",
        "* Press CTRL+SHIFT+I\n",
        "* Click on \"Console\" from the tabs\n",
        "* Copy the following:\n",
        "\n",
        "```\n",
        "function ClickConnect(){\n",
        "console.log(\"Working\");\n",
        "document.querySelector(\"colab-toolbar-button#connect\").click()\n",
        "}setInterval(ClickConnect,60000)\n",
        "```\n",
        "\n",
        "* Train your world class AI model."
      ]
    },
    {
      "cell_type": "code",
      "metadata": {
        "id": "CjNUAvAKN4NL"
      },
      "source": [
        "## Do cool stuff!"
      ],
      "execution_count": null,
      "outputs": []
    },
    {
      "cell_type": "code",
      "metadata": {
        "id": "PTygAgMIOGvD"
      },
      "source": [
        ""
      ],
      "execution_count": null,
      "outputs": []
    }
  ]
}